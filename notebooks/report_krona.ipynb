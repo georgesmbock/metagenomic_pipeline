{
 "cells": [
  {
   "cell_type": "markdown",
   "id": "c88921fa-3a30-484e-af0f-1407de1caea2",
   "metadata": {},
   "source": [
    "# Preliminary Exploration of the Environmental Virome of Cuatro Ciénegas Using Kraken2 and Krona\n"
   ]
  },
  {
   "cell_type": "markdown",
   "id": "08ccf9ac-eaf5-4ec4-aa96-4ae7f82c9c62",
   "metadata": {},
   "source": [
    "<img src=\"https://lh3.googleusercontent.com/gps-cs-s/AC9h4nrK77DASdlncAKEZj-u8mLB1tMT6QkQJ3v17eU9LKDq51EBwErvkKHYeIdV0B0a-3xmkCE3YJlXcSLlpB830MGIgaxu3qVSQ4Wlk3qvPMcz8wW3pBXyRk5c7l00wrfG05E53dU=w675-h390-n-k-no\" \n",
    "     alt=\"Cuatro Ciénegas Desert\" \n",
    "     style=\"width:100%; height:auto; border-radius:8px;\">\n",
    "\n",
    "<p style=\"text-align:center;\"><em>Figure: Landscape of Cuatro Ciénegas, Mexico (source: Google)</em></p>"
   ]
  },
  {
   "cell_type": "markdown",
   "id": "889f64d4-b1a2-4ccb-b626-33185bdbe61e",
   "metadata": {},
   "source": [
    "---\n",
    "---"
   ]
  },
  {
   "cell_type": "markdown",
   "id": "5e144c0a-8eb8-42da-b571-e3b2e3f83778",
   "metadata": {},
   "source": [
    "## 1. Context\n",
    "\n",
    "The Cuatro Ciénegas desert, located in northern Mexico, is an ancient oasis characterized by shallow pools hosting remarkable microbial biodiversity, often regarded as a model for primitive ecosystems. As part of a 32-day ecological experiment, two ponds were sampled:\n",
    "\n",
    "- JC1A: Control pond (unfertilized)\n",
    "\n",
    "- JP4D: Fertilized pond\n",
    "\n",
    "These contrasting environments served as the basis for metagenomic analyses aimed at exploring the virome present in each habitat, using tools accessible on limited-resource machines.\n",
    "\n"
   ]
  },
  {
   "cell_type": "markdown",
   "id": "09cd4862-0234-4474-a58b-73d5870335af",
   "metadata": {},
   "source": [
    "---"
   ]
  },
  {
   "cell_type": "markdown",
   "id": "80cde2b1-502f-4866-b440-c5fd2140dddd",
   "metadata": {},
   "source": [
    "## 2. Objectives\n",
    "\n",
    "This initial report aims to:\n",
    "\n",
    "- Detect viral reads in environmental samples\n",
    "\n",
    "- Visualize taxonomic profiles using Krona\n",
    "\n",
    "- Assess the feasibility of conducting such analyses on modest computational resources (8 GB RAM)"
   ]
  },
  {
   "cell_type": "markdown",
   "id": "31518397-0c3e-40de-9327-b227af36de48",
   "metadata": {},
   "source": [
    "---"
   ]
  },
  {
   "cell_type": "markdown",
   "id": "01b19432-d909-451c-b2cf-2c6f6c2d8b9f",
   "metadata": {},
   "source": [
    "## 3. Methodology\n",
    "- Data type: Paired-end Illumina sequencing reads (gzipped FASTQ)\n",
    "- Database used: kraken2_viral_202504.tgz, a reduced viral database optimized for memory constraints\n",
    "\n",
    "- The analyses were conducted on paired-end metagenomic datasets originating from a public ecological experiment in Cuatro Ciénegas (Mexico), available via Zenodo. Bioinformatics processing was carried out within a Dockerized environment to ensure reproducibility and resource optimization, particularly in the context of limited RAM capacity (8 GB).\n",
    "\n",
    "- The pipeline included an initial quality control of the raw sequences, followed by taxonomic classification focused on viral content using Kraken2 with a lightweight viral database adapted to hardware constraints. Results were then visualized interactively using Krona, allowing hierarchical exploration of the detected taxonomic profiles.\n",
    "\n",
    "- This methodology combines efficiency, scientific rigor, and technical pragmatism qualities that are essential for conducting pathogen bioinformatics research in low-resource environments, as often encountered across the African continent."
   ]
  },
  {
   "cell_type": "markdown",
   "id": "35682652-7fb6-4240-916e-0cfb884b719e",
   "metadata": {},
   "source": [
    "---"
   ]
  },
  {
   "cell_type": "markdown",
   "id": "7fd18877-365e-4e55-9579-c3bf1cab72eb",
   "metadata": {},
   "source": [
    "## 4. Krona Visualization"
   ]
  },
  {
   "cell_type": "code",
   "execution_count": 71,
   "id": "6c5185ea-ee20-4a93-a33f-a9483ea65c2c",
   "metadata": {},
   "outputs": [],
   "source": [
    "from IPython.display import IFrame, display_html\n"
   ]
  },
  {
   "cell_type": "code",
   "execution_count": 68,
   "id": "e173e8b2-875f-4292-b2ae-3dbf522cb54b",
   "metadata": {},
   "outputs": [
    {
     "data": {
      "text/html": [
       "<iframe src=\"returned_files/krona/JC1A_krona.html\" width=\"400\" height=\"400\"></iframe><iframe src=\"returned_files/krona/JP4D_krona.html\" width=\"400\" height=\"400\"></iframe>"
      ]
     },
     "metadata": {},
     "output_type": "display_data"
    }
   ],
   "source": [
    "iframe1 = '<iframe src=\"returned_files/krona/JC1A_krona.html\" width=\"400\" height=\"400\"></iframe>'\n",
    "iframe2 = '<iframe src=\"returned_files/krona/JP4D_krona.html\" width=\"400\" height=\"400\"></iframe>'\n",
    "\n",
    "display_html(iframe1 + iframe2, raw=True)"
   ]
  },
  {
   "cell_type": "markdown",
   "id": "2971be8d-a584-45ad-96ce-b0acb591c583",
   "metadata": {},
   "source": [
    "---"
   ]
  },
  {
   "cell_type": "markdown",
   "id": "42bc20df-22ec-41e5-9792-9f8199ecbacc",
   "metadata": {},
   "source": [
    "## 4. Result\n",
    "The following table summarizes the proportions of viral and unclassified reads (“Other Root”) derived from Krona visualizations for the two samples:\n",
    "\n",
    "| Sample | Viral Proportion | “Other Root” (unclassifiable reads) |\n",
    "| ------ | ---------------- | ----------------------------------- |\n",
    "| JC1A   | 0.6%             | 0.0007%                             |\n",
    "| JP4D   | 0.3%             | 0.005%                              |\n",
    "\n",
    "\n",
    "Krona visualizations indicate that both environments contain viral signatures, albeit at low abundance."
   ]
  },
  {
   "cell_type": "markdown",
   "id": "f7a4d535-783a-45d7-8860-0f50befe075f",
   "metadata": {},
   "source": [
    "## 5. Interprétation\n",
    "\n",
    "- The control sample JC1A shows a higher proportion of viral reads, suggesting a stable microbial community conducive to viral detection.\n",
    "\n",
    "- The fertilized sample JP4D exhibits a slightly increased proportion of unclassified reads, potentially indicating microbial community shifts or presence of viral taxa not represented in the current database.\n",
    "\n",
    "- These observations suggest that fertilization may influence viral community composition or disrupt host communities, indirectly affecting the detectability of known viruses.\n",
    "\n"
   ]
  },
  {
   "cell_type": "markdown",
   "id": "f7e947da-1756-4cd2-b0db-30ae219a9cde",
   "metadata": {},
   "source": [
    "---"
   ]
  },
  {
   "cell_type": "markdown",
   "id": "3268fc4c-542a-4437-9fa6-f9faaecc1e5b",
   "metadata": {},
   "source": [
    "## 6. Limitations and Technical Considerations\n",
    "| Constraints | Adaptations Implemented |\n",
    "| ------------ |------------------------|\n",
    "| Limited RAM (8 GB)\t| Use of a reduced viral database (MiniKraken2)\n",
    "| Incomplete taxonomy coverage |\tAcceptance of a small fraction of unclassified reads|\n",
    "| No direct functional annotation\t| Focus on initial taxonomic exploration|\n",
    "\n"
   ]
  },
  {
   "cell_type": "markdown",
   "id": "634c6c11-009e-4a1b-a703-74dcf6fe710c",
   "metadata": {},
   "source": [
    "---"
   ]
  },
  {
   "cell_type": "markdown",
   "id": "ebbc9674-9518-4e45-bd70-dc1a3173a91f",
   "metadata": {},
   "source": [
    "## 7. Perspectives\n",
    "\n",
    "- This introductory report lays the groundwork for:\n",
    "\n",
    "- A comparative analysis between JC1A and JP4D (Report 2)\n",
    "\n",
    "- Functional annotation of viral taxa (Report 3)\n",
    "\n",
    "- Targeted extraction and functional analysis of viral reads (Report 4)\n",
    "\n",
    "- Methodological discussion on reproducibility under computational constraints (Report 5)"
   ]
  },
  {
   "cell_type": "markdown",
   "id": "58f7d732-3642-4a08-867e-1fbe517490ea",
   "metadata": {},
   "source": [
    "---"
   ]
  },
  {
   "cell_type": "markdown",
   "id": "33bf1328-a0c6-4caa-86bb-ddf43df26c97",
   "metadata": {},
   "source": [
    "## 8. Conclusion\n",
    "\n",
    "This preliminary exploration of viral diversity across two contrasting microecosystems in Cuatro Ciénegas demonstrates that meaningful biological insights can be obtained using a lightweight, resource-conscious bioinformatics pipeline. Although modest, the differences observed between the fertilized (JP4D) and control (JC1A) samples suggest that environmental disturbances can influence both the detectable virome composition and the proportion of unclassifiable reads.\n",
    "\n",
    "These findings align with prior research in Cuatro Ciénegas, which has shown that nutrient enrichment alters microbial community structures (Peimbert et al., 2012; Lee et al., 2017), and that the region hosts an exceptionally rich and undercharacterized virome (Desnues et al., 2018). Despite relying on a reduced viral database, this analysis succeeded in capturing ecologically relevant signals consistent with the known dynamics of this unique environment.\n",
    "\n",
    "This work illustrates my ability to apply bioinformatics tools to ecologically and epidemiologically significant questions, combining technical adaptability, scientific rigor, and critical interpretation. It aligns directly with the mission of the African STARS MSc program, which aims to empower the next generation of scientists to tackle infectious disease challenges through genomic research particularly in resource constrained settings. Through this training, I aspire to deepen my expertise and contribute meaningfully to pathogen surveillance and genomic research across Africa."
   ]
  },
  {
   "cell_type": "markdown",
   "id": "75ac0d16-b405-4bf6-bab4-1c40a8163c11",
   "metadata": {},
   "source": [
    "---"
   ]
  },
  {
   "cell_type": "markdown",
   "id": "f2bbb045-04d5-40bf-9ab5-3e87478b227c",
   "metadata": {},
   "source": [
    "## References\n",
    "[1] Lee, Z. M. P., Steger, C. E., Corman, J. R., Neveu, M., Poret-Peterson, A. T., Souza, V., & Shade, A. (2017). Nutrient stoichiometry shapes microbial diversity in an oligotrophic desert oasis. Frontiers in Microbiology, 8, 1425. https://doi.org/10.3389/fmicb.2017.01425\n",
    "\n",
    "[2] Peimbert, M., Alcaraz, L. D., Bonilla-Rosso, G., Olmedo-Álvarez, G., García-Oliva, F., Segovia, L., ... & Eguiarte, L. E. (2012). Comparative metagenomics of two microbial mats at Cuatro Ciénegas Basin II: community structure and composition in oligotrophic environments. Astrobiology, 12(7), 659–673. https://doi.org/10.1089/ast.2011.0690\n",
    "\n",
    "[3] Desnues, C., Rodriguez-Brito, B., Rayhawk, S., Kelley, S., Tran, T., Haynes, M., ... & Rohwer, F. (2008). Biodiversity and biogeography of phages in modern stromatolites and thrombolites. Nature, 452(7185), 340–343. https://doi.org/10.1038/nature06735\n",
    "\n",
    "[4] Wood, D. E., Lu, J., & Langmead, B. (2019). Improved metagenomic analysis with Kraken 2. Genome Biology, 20, 257. https://doi.org/10.1186/s13059-019-1891-0\n",
    "\n",
    "[5] Ondov, B. D., Bergman, N. H., & Phillippy, A. M. (2011). Interactive metagenomic visualization in a web browser. BMC Bioinformatics, 12, 385. https://doi.org/10.1186/1471-2105-12-385\n",
    "\n",
    "[6] Zenodo. (2023). Cuatro Ciénegas metagenomic sequencing data [Data set]. https://zenodo.org/record/7871630\n",
    "\n",
    "[7] Andrews, S. (2010). FastQC: A Quality Control Tool for High Throughput Sequence Data. https://www.bioinformatics.babraham.ac.uk/projects/fastqc/\n",
    "\n",
    "[8] Johns Hopkins University, Center for Computational Biology. (2019). Kraken2: Metagenomic classification. https://ccb.jhu.edu/software/kraken2/\n",
    "\n",
    "[9] Ondov, B. (2016). Krona Tools for Metagenomic Visualization. https://github.com/marbl/Krona/wiki"
   ]
  },
  {
   "cell_type": "markdown",
   "id": "8342599f-c69d-43da-ab01-960b300c6756",
   "metadata": {},
   "source": [
    "---"
   ]
  },
  {
   "cell_type": "markdown",
   "id": "883b4d06-d907-4bea-b46c-6a4e6cc86ec6",
   "metadata": {},
   "source": [
    "<hr style=\"margin-top: 50px;\">\n",
    "\n",
    "<footer style=\"text-align: center; font-size: small; color: gray;\">\n",
    "  © 2025 Mbock Mbock Georges Christian – All rights reserved.  \n",
    "  <br>Notebook produced as part of an application for the MSc in Bioinformatics of Infectious Diseases and Pathogen Genomics – Stellenbosch University (African STARS Program).\n",
    "</footer>\n"
   ]
  },
  {
   "cell_type": "markdown",
   "id": "fd295d18-fd25-4298-b23c-2ac7732d8510",
   "metadata": {},
   "source": [
    "---"
   ]
  },
  {
   "cell_type": "code",
   "execution_count": null,
   "id": "4ca0752b-40a4-4089-8f7d-86d05bf28c06",
   "metadata": {},
   "outputs": [],
   "source": []
  }
 ],
 "metadata": {
  "kernelspec": {
   "display_name": "Python 3 (ipykernel)",
   "language": "python",
   "name": "python3"
  },
  "language_info": {
   "codemirror_mode": {
    "name": "ipython",
    "version": 3
   },
   "file_extension": ".py",
   "mimetype": "text/x-python",
   "name": "python",
   "nbconvert_exporter": "python",
   "pygments_lexer": "ipython3",
   "version": "3.10.18"
  }
 },
 "nbformat": 4,
 "nbformat_minor": 5
}
